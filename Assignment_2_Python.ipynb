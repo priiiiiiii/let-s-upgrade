{
  "nbformat": 4,
  "nbformat_minor": 0,
  "metadata": {
    "colab": {
      "name": "Assignment 2 Python",
      "provenance": [],
      "collapsed_sections": [],
      "authorship_tag": "ABX9TyO0KVK+/Te8lGE/k5JGWDit",
      "include_colab_link": true
    },
    "kernelspec": {
      "name": "python3",
      "display_name": "Python 3"
    }
  },
  "cells": [
    {
      "cell_type": "markdown",
      "metadata": {
        "id": "view-in-github",
        "colab_type": "text"
      },
      "source": [
        "<a href=\"https://colab.research.google.com/github/priiiiiiii/let-s-upgrade/blob/master/Assignment_2_Python.ipynb\" target=\"_parent\"><img src=\"https://colab.research.google.com/assets/colab-badge.svg\" alt=\"Open In Colab\"/></a>"
      ]
    },
    {
      "cell_type": "markdown",
      "metadata": {
        "id": "PHcTLDy-5hXI",
        "colab_type": "text"
      },
      "source": [
        "Assignment 1 day3"
      ]
    },
    {
      "cell_type": "markdown",
      "metadata": {
        "id": "7B1XpwaY5uEy",
        "colab_type": "text"
      },
      "source": [
        "Q1. You all are pilots, you want to land a plane safely,so WAP to take current altitude as input and check weather the altitude is less than 1000 ft to land the plane, Or more than 1000 st, and if it's less than 5000 ft ask pilot to bring it further down to 1000 ft and if it is more than 5000 ft ask pilot to turn around and attend later."
      ]
    },
    {
      "cell_type": "code",
      "metadata": {
        "id": "79xfUyyGAys3",
        "colab_type": "code",
        "colab": {
          "base_uri": "https://localhost:8080/",
          "height": 51
        },
        "outputId": "3d384ae6-0dc2-43f5-9670-096114f51ac9"
      },
      "source": [
        "num = input(\"Enter altitude - \")\n",
        "num = int(num)\n",
        "if num<=1000:\n",
        "   print(\"Safe to Land\")  \n",
        "elif 5000>num>1000:\n",
        "   print(\"Bring to 1000\")\n",
        "else:\n",
        "   print(\"Turn around and try later\")"
      ],
      "execution_count": 10,
      "outputs": [
        {
          "output_type": "stream",
          "text": [
            "Enter altitude - 1000\n",
            "Safe to Land\n"
          ],
          "name": "stdout"
        }
      ]
    },
    {
      "cell_type": "markdown",
      "metadata": {
        "id": "-HnjULT3-Mzr",
        "colab_type": "text"
      },
      "source": [
        "Assignment 2 day3"
      ]
    },
    {
      "cell_type": "markdown",
      "metadata": {
        "id": "9uhIlYx1_XbK",
        "colab_type": "text"
      },
      "source": [
        "Q1. Using for loop and range function print all prime number between 1-200"
      ]
    },
    {
      "cell_type": "code",
      "metadata": {
        "id": "J6uBXYRO_meo",
        "colab_type": "code",
        "colab": {
          "base_uri": "https://localhost:8080/",
          "height": 836
        },
        "outputId": "11846774-b405-41b7-d035-a9c1196e6912"
      },
      "source": [
        " \n",
        "lower = 1\n",
        "upper = 200\n",
        " \n",
        "print(\"Prime numbers between\", lower, \"and\", upper, \"are:\")\n",
        " \n",
        "for num in range(lower, upper + 1):\n",
        "  \n",
        "   if num > 1:\n",
        "       for i in range(2, num):\n",
        "           if (num % i) == 0:\n",
        "               break\n",
        "       else:\n",
        "           print(num)"
      ],
      "execution_count": 5,
      "outputs": [
        {
          "output_type": "stream",
          "text": [
            "Prime numbers between 1 and 200 are:\n",
            "2\n",
            "3\n",
            "5\n",
            "7\n",
            "11\n",
            "13\n",
            "17\n",
            "19\n",
            "23\n",
            "29\n",
            "31\n",
            "37\n",
            "41\n",
            "43\n",
            "47\n",
            "53\n",
            "59\n",
            "61\n",
            "67\n",
            "71\n",
            "73\n",
            "79\n",
            "83\n",
            "89\n",
            "97\n",
            "101\n",
            "103\n",
            "107\n",
            "109\n",
            "113\n",
            "127\n",
            "131\n",
            "137\n",
            "139\n",
            "149\n",
            "151\n",
            "157\n",
            "163\n",
            "167\n",
            "173\n",
            "179\n",
            "181\n",
            "191\n",
            "193\n",
            "197\n",
            "199\n"
          ],
          "name": "stdout"
        }
      ]
    }
  ]
}