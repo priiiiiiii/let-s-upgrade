{
  "nbformat": 4,
  "nbformat_minor": 0,
  "metadata": {
    "colab": {
      "name": "Assignment day 8",
      "provenance": [],
      "collapsed_sections": [],
      "authorship_tag": "ABX9TyO8TiQpprCejLzdHig8Jb/v",
      "include_colab_link": true
    },
    "kernelspec": {
      "name": "python3",
      "display_name": "Python 3"
    }
  },
  "cells": [
    {
      "cell_type": "markdown",
      "metadata": {
        "id": "view-in-github",
        "colab_type": "text"
      },
      "source": [
        "<a href=\"https://colab.research.google.com/github/priiiiiiii/let-s-upgrade/blob/master/Assignment_day_8.ipynb\" target=\"_parent\"><img src=\"https://colab.research.google.com/assets/colab-badge.svg\" alt=\"Open In Colab\"/></a>"
      ]
    },
    {
      "cell_type": "code",
      "metadata": {
        "id": "FbhkY_XiFcKu",
        "colab_type": "code",
        "colab": {}
      },
      "source": [
        "Assignment day 6"
      ],
      "execution_count": null,
      "outputs": []
    },
    {
      "cell_type": "markdown",
      "metadata": {
        "id": "31UUhiW1FqcS",
        "colab_type": "text"
      },
      "source": [
        " Q1."
      ]
    },
    {
      "cell_type": "code",
      "metadata": {
        "id": "PTRZphjRF5-S",
        "colab_type": "code",
        "colab": {}
      },
      "source": [
        "def recur_cache(func):\n",
        "    cache = {}\n",
        "    def wrapper(arg):\n",
        "        if arg not in cache:\n",
        "            cache[arg] = func(arg)\n",
        "        return cache[arg]\n",
        "    return wrapper\n",
        " \n",
        " \n",
        "@recur_cache\n",
        "def fib(N):\n",
        "    \n",
        "    if N < 0 or N == None : \n",
        "           return None\n",
        "    if N < 2: \n",
        "           return N\n",
        "    else:\n",
        "        return fib(N-1) + fib(N-2)"
      ],
      "execution_count": 5,
      "outputs": []
    },
    {
      "cell_type": "code",
      "metadata": {
        "id": "SrB63hONGXTB",
        "colab_type": "code",
        "colab": {
          "base_uri": "https://localhost:8080/",
          "height": 34
        },
        "outputId": "b7d0f7fe-cf4a-4fdf-c25c-f413bf588de9"
      },
      "source": [
        "fib(3)"
      ],
      "execution_count": 6,
      "outputs": [
        {
          "output_type": "execute_result",
          "data": {
            "text/plain": [
              "2"
            ]
          },
          "metadata": {
            "tags": []
          },
          "execution_count": 6
        }
      ]
    },
    {
      "cell_type": "markdown",
      "metadata": {
        "id": "WCYZBRSzI-M2",
        "colab_type": "text"
      },
      "source": [
        "Q2."
      ]
    },
    {
      "cell_type": "code",
      "metadata": {
        "id": "WHB6A-uPJIga",
        "colab_type": "code",
        "colab": {}
      },
      "source": [
        "file=open(\"mayuri.txt\",\"w\") \n",
        "file.write(\"Hi, i am mayuri dhane learning python\") \n",
        "file.close()"
      ],
      "execution_count": 8,
      "outputs": []
    },
    {
      "cell_type": "code",
      "metadata": {
        "id": "gIZvP22nJQ7r",
        "colab_type": "code",
        "colab": {
          "base_uri": "https://localhost:8080/",
          "height": 54
        },
        "outputId": "3978a120-d966-4c84-d784-bc7af91dcd43"
      },
      "source": [
        "file = open(\"mayuri.txt\",\"r\")\n",
        "fileData = file.read()\n",
        "print(fileData)\n",
        "file.close()"
      ],
      "execution_count": 9,
      "outputs": [
        {
          "output_type": "stream",
          "text": [
            "Hi, i am mayuri dhane learning python\n"
          ],
          "name": "stdout"
        }
      ]
    },
    {
      "cell_type": "code",
      "metadata": {
        "id": "3Oxa4WKrJZVP",
        "colab_type": "code",
        "colab": {
          "base_uri": "https://localhost:8080/",
          "height": 34
        },
        "outputId": "fc109161-d514-4187-a449-3b297a72c2ce"
      },
      "source": [
        "try :\n",
        "    file = open(\"mayuri.txt\",\"r\")\n",
        "    file.write(\"HI\")\n",
        "    file.close()\n",
        "except Exception as e:\n",
        "    print(e)"
      ],
      "execution_count": 10,
      "outputs": [
        {
          "output_type": "stream",
          "text": [
            "not writable\n"
          ],
          "name": "stdout"
        }
      ]
    }
  ]
}