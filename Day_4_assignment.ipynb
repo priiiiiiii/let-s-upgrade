{
  "nbformat": 4,
  "nbformat_minor": 0,
  "metadata": {
    "colab": {
      "name": "Day 4 assignment",
      "provenance": [],
      "collapsed_sections": [],
      "authorship_tag": "ABX9TyM/eMCLTFtgsxTnT8AqJD9L",
      "include_colab_link": true
    },
    "kernelspec": {
      "name": "python3",
      "display_name": "Python 3"
    }
  },
  "cells": [
    {
      "cell_type": "markdown",
      "metadata": {
        "id": "view-in-github",
        "colab_type": "text"
      },
      "source": [
        "<a href=\"https://colab.research.google.com/github/priiiiiiii/let-s-upgrade/blob/master/Day_4_assignment.ipynb\" target=\"_parent\"><img src=\"https://colab.research.google.com/assets/colab-badge.svg\" alt=\"Open In Colab\"/></a>"
      ]
    },
    {
      "cell_type": "markdown",
      "metadata": {
        "id": "nQFhm0QMPdrX",
        "colab_type": "text"
      },
      "source": [
        "Assignment 1"
      ]
    },
    {
      "cell_type": "markdown",
      "metadata": {
        "id": "0VTPiWWYPfGT",
        "colab_type": "text"
      },
      "source": [
        "Q1. Print the first Armstrong number in the range of 1042000 to 702648265 and exist the loop as soon as you incounter"
      ]
    },
    {
      "cell_type": "code",
      "metadata": {
        "id": "YUM3c5BdQhNC",
        "colab_type": "code",
        "colab": {
          "base_uri": "https://localhost:8080/",
          "height": 34
        },
        "outputId": "5c3343fc-feac-469d-b71a-18496cb50eba"
      },
      "source": [
        " \n",
        "upper = 702648265\n",
        "lowers=1042000\n",
        "for num in range (lowers , upper + 1):\n",
        "    o= len (str(num))\n",
        "    sum = 0\n",
        "    temp = num\n",
        "    while temp > 0:\n",
        "        x = temp % 10\n",
        "        sum += x ** o\n",
        "        temp //= 10\n",
        " \n",
        "    if num == sum:\n",
        "        print(num)\n",
        "        break"
      ],
      "execution_count": null,
      "outputs": [
        {
          "output_type": "stream",
          "text": [
            "1741725\n"
          ],
          "name": "stdout"
        }
      ]
    }
  ]
}